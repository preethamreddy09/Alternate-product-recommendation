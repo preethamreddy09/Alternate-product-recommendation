{
  "nbformat": 4,
  "nbformat_minor": 0,
  "metadata": {
    "colab": {
      "provenance": []
    },
    "kernelspec": {
      "name": "python3",
      "display_name": "Python 3"
    },
    "language_info": {
      "name": "python"
    }
  },
  "cells": [
    {
      "cell_type": "code",
      "source": [
        "import requests\n",
        "from bs4 import BeautifulSoup"
      ],
      "metadata": {
        "id": "9_mCEY8V71pP"
      },
      "execution_count": 35,
      "outputs": []
    },
    {
      "cell_type": "code",
      "source": [
        "base_url = \"https://www.woolsboutiqueuomo.com\""
      ],
      "metadata": {
        "id": "44kBteNs78kK"
      },
      "execution_count": 37,
      "outputs": []
    },
    {
      "cell_type": "code",
      "source": [
        "prod = []"
      ],
      "metadata": {
        "id": "NmDvijxy8Y-Q"
      },
      "execution_count": 42,
      "outputs": []
    },
    {
      "cell_type": "code",
      "source": [
        "for i in range(1,29):\n",
        "  url = f\"https://www.woolsboutiqueuomo.com/collections/all?page={i}\"\n",
        "  page = requests.get(url)\n",
        "  soup = BeautifulSoup(page.content,'html.parser')\n",
        "  products = soup.find_all('article',class_='indiv-product')\n",
        "  for p in products:\n",
        "   title = p.find('span',class_='indiv-product-title-text').text\n",
        "   href = p.find('a').get('href')\n",
        "   link= base_url+href\n",
        "   #if href.startswith('/collections')\n",
        "   prod.append(title)\n",
        "   prod.append(link)"
      ],
      "metadata": {
        "id": "9Wv8E6wQ8O4C"
      },
      "execution_count": 43,
      "outputs": []
    },
    {
      "cell_type": "code",
      "source": [
        "prod"
      ],
      "metadata": {
        "id": "tXLHW_108ib6"
      },
      "execution_count": null,
      "outputs": []
    },
    {
      "cell_type": "markdown",
      "source": [
        "Alternate recomendayions for evey title in the products"
      ],
      "metadata": {
        "id": "hZ4vRxA3SJwa"
      }
    },
    {
      "cell_type": "code",
      "source": [
        "import difflib\n",
        "\n",
        "def FindAlternateGroups(store_domain):\n",
        "    base_url = f\"https://{store_domain}\"\n",
        "    product_titles = []\n",
        "    products = []\n",
        "    result = []\n",
        "    \n",
        "    for i in range(1,29):\n",
        "        url = f\"{base_url}/collections/all?page={i}\"\n",
        "        page = requests.get(url)\n",
        "        soup = BeautifulSoup(page.content,'html.parser')\n",
        "        products = soup.find_all('article',class_='indiv-product')\n",
        "        \n",
        "    # Collect product titles and links\n",
        "        for p in products:\n",
        "         title = p.find('span',class_='indiv-product-title-text').text.strip()\n",
        "         href = p.find('a').get('href')\n",
        "         link = f\"{base_url}{href}\"\n",
        "         product_titles.append((title, link))\n",
        "    \n",
        "    # Group the products based on their title similarity\n",
        "    for i, (title_i, link_i) in enumerate(product_titles):\n",
        "        group = [link_i]\n",
        "        for title_j, link_j in product_titles[i+1:]:\n",
        "            similarity = difflib.SequenceMatcher(None, title_i, title_j).ratio()\n",
        "            if similarity >= 0.7:\n",
        "                group.append(link_j)\n",
        "        if len(group) > 1:\n",
        "            result.append({\"product alternates for \"+title_i: group})\n",
        "    \n",
        "    return result\n",
        "op = FindAlternateGroups(\"www.woolsboutiqueuomo.com\")\n",
        "#print(op)"
      ],
      "metadata": {
        "id": "lrJ5YlcXExl4"
      },
      "execution_count": 61,
      "outputs": []
    },
    {
      "cell_type": "markdown",
      "source": [
        "Alternate recomendations for the product we specifically search for"
      ],
      "metadata": {
        "id": "CGext93YSRc0"
      }
    },
    {
      "cell_type": "code",
      "source": [
        "import difflib\n",
        "import json\n",
        "\n",
        "def FindAlternateGroups(store_domain,pdct):\n",
        "    base_url = f\"https://{store_domain}\"\n",
        "    product_titles = []\n",
        "    products = []\n",
        "    result = []\n",
        "    \n",
        "    for i in range(1,29):\n",
        "        url = f\"{base_url}/collections/all?page={i}\"\n",
        "        page = requests.get(url)\n",
        "        soup = BeautifulSoup(page.content,'html.parser')\n",
        "        products = soup.find_all('article',class_='indiv-product')\n",
        "        \n",
        "    # Collect product titles and links\n",
        "        for p in products:\n",
        "         title = p.find('span',class_='indiv-product-title-text').text.strip()\n",
        "         href = p.find('a').get('href')\n",
        "         link = f\"{base_url}{href}\"\n",
        "         product_titles.append((title, link))\n",
        "    \n",
        "    # Group the products based on their title similarity\n",
        "    for i, (title_i, link_i) in enumerate(product_titles):\n",
        "        group = [link_i]\n",
        "        for title_j, link_j in product_titles[i+1:]:\n",
        "            similarity = difflib.SequenceMatcher(None, title_i, title_j).ratio()\n",
        "            if similarity >= 0.7:\n",
        "                group.append(link_j)\n",
        "        if len(group) > 1:\n",
        "            result.append({\"titles\": [title_i], \"links\": group})\n",
        "        \n",
        "# Product groups based on input\n",
        "    results = []\n",
        "    for title, link in product_titles:\n",
        "        if pdct in title.lower():\n",
        "            results.append(link)\n",
        "    return results\n",
        "\n",
        "\n",
        "required_product = input(\"Enter product name : \")\n",
        "product_alternates = FindAlternateGroups(\"www.woolsboutiqueuomo.com\",required_product)\n",
        "\n",
        "output_dict = {\"product_alternates\": product_alternates}\n",
        "\n",
        "# Convert the dictionary to JSON\n",
        "output_json = json.dumps(output_dict, indent=2)\n",
        "\n",
        "# Print the JSON\n",
        "print(output_json)\n"
      ],
      "metadata": {
        "colab": {
          "base_uri": "https://localhost:8080/"
        },
        "id": "NRkK8WaLS7VU",
        "outputId": "317c1dd6-34fc-4479-dd82-add1441b7834"
      },
      "execution_count": 86,
      "outputs": [
        {
          "output_type": "stream",
          "name": "stdout",
          "text": [
            "Enter product name : cashmere shawl\n",
            "{\n",
            "  \"product_alternates\": [\n",
            "    \"https://www.woolsboutiqueuomo.com/products/cashmere-shrug-stole-shawl-multicolor\",\n",
            "    \"https://www.woolsboutiqueuomo.com/products/handamde-cashmere-scarf-19andreas47\"\n",
            "  ]\n",
            "}\n"
          ]
        }
      ]
    }
  ]
}